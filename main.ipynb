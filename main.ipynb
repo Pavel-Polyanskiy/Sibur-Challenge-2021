{
 "cells": [
  {
   "cell_type": "markdown",
   "id": "monthly-upgrade",
   "metadata": {},
   "source": [
    "**Disclaimer**:\n",
    "\n",
    "Это не соревнование с Каггла, я согласовал это с Александром Владимировичем: соревнование - Sibur Challenge 2021: прогноз спроса https://sibur.ai-community.com/competitions/5/tasks/13\n",
    "\n",
    "Ccылка на лидерборд: https://sibur.ai-community.com/competitions/5/tasks/13/rating (49 позиция)\n",
    "\n",
    "Весь процесс аналогичен Кагглу, тот же лидерборд итд\n",
    "\n",
    "На нем я занял 49 место, все, что выше 110 - лучше бейзлайна\n",
    "\n",
    "Проект состоит из трех файлов:\n",
    "\n",
    "1) Sibur Challenge 2021.ipynb - сам анализ данных, построение и оптимизация модели\n",
    "\n",
    "2) gd_model.sav - файл с сохраненной моделью\n",
    "\n",
    "3) predict.py - это и есть submission file - туда загружается не сами предсказания, а функции, которые получают на вход тестовую выборку(которую участники не знают) - они делают препроцессинг и предсказания(вызывая файл с моделью). К слову, в этом плане это немного сложнее каглла, где нужен зачастую только csv файл с предсказаниями"
   ]
  },
  {
   "cell_type": "markdown",
   "id": "differential-subdivision",
   "metadata": {},
   "source": [
    "**Disclaimer 2**:\n",
    "\n",
    "оптимизация hyperopt у меня прогонялась около 25-30 минут + обычные модели в сумме несколько минут - поэтому скрипт быстро не прогонится"
   ]
  },
  {
   "cell_type": "markdown",
   "id": "apart-printing",
   "metadata": {},
   "source": [
    "**Задача**\n",
    "\n",
    "Задача состоит в том, чтобы на основе данных о продажах(кто(какой менеджер), куда(в какую страну и регион), кому(какой компании) в каком количестве продал). Данные имеются за несколько лет, они аггрегируются по вышеупомяннутым колонкам(по условию организаторов), затем строится модель, которая предсказывает спрос на заданный месяц"
   ]
  },
  {
   "cell_type": "markdown",
   "id": "suspected-japanese",
   "metadata": {},
   "source": [
    "**Формилировка с сайта**\n",
    "\n",
    "СИБУР производит и продает различную нефтехимическую продукцию во многие страны мира. Поэтому прогноз спроса необходимо строить с детализацией до продукта, региона, клиента и менеджера, осуществляющего сделку.\n",
    "\n",
    "Для построения модели даны сделки за тренировочный период (с 2018-01-01 по 2020-07-31) с полями, описывающими сделку. Тестовый набор данных соответствует периоду с 2020-08-01 по 2021-07-31.\n",
    "\n",
    "\n",
    "Поля в наборе данных:\n",
    "\n",
    "material_code - код продукта,\n",
    "\n",
    "company_code - код клиента, который всегда равен 0 для спотовых сделок,\n",
    "\n",
    "country - страна, в которую осуществляется продажа,\n",
    "\n",
    "region - регион внутри страны, в которую осуществляется продажа; для большинства стран не детализирован,\n",
    "\n",
    "manager_code - код менеджера, ведущего сделку,\n",
    "\n",
    "month - месяц сделки,\n",
    "\n",
    "material_lvl1_name, material_lvl2_name, material_lvl3_name - группировка продукта по категориям разных уровней,\n",
    "\n",
    "contract_type - тип сделки,\n",
    "\n",
    "date - точная дата сделки,\n",
    "\n",
    "volume - объем сделки.\n",
    "\n",
    "Структура кода и валидации\n",
    "\n",
    "В этом соревновании вам предстоит загружать код, который вычисляет предсказания, т. е. суммарный объем для следующего месяца для \n",
    "каждой группы material_code, company_code, country, region, manager_code.\n",
    "\n",
    "\n",
    "в наборе данных есть 941 группа material_code, company_code, country, region, manager_code, при этом нет групп, которые встречаются только в тестовом периоде,\n",
    "полностью сформированный набор предсказаний содержит, таким образом, 941 строку, для каждой из которых вычислены 12 значений суммарного объема для каждого месяца в тестовом периоде,\n",
    "код решения должен принимать на вход целевой месяц и сделки, предшествующие ему (с начала тренировочного периода) и возвращать предсказания объемов для целевого месяца; "
   ]
  },
  {
   "cell_type": "code",
   "execution_count": 4,
   "id": "prepared-january",
   "metadata": {},
   "outputs": [],
   "source": [
    "import pandas as pd \n",
    "import numpy as np"
   ]
  },
  {
   "cell_type": "code",
   "execution_count": 5,
   "id": "negative-constitutional",
   "metadata": {},
   "outputs": [],
   "source": [
    "df_start = pd.read_csv('/Users/polyanaboss/Desktop/sc2021_train_deals.csv',  parse_dates=[\"month\", \"date\"])"
   ]
  },
  {
   "cell_type": "code",
   "execution_count": 6,
   "id": "scientific-deadline",
   "metadata": {},
   "outputs": [
    {
     "data": {
      "text/html": [
       "<div>\n",
       "<style scoped>\n",
       "    .dataframe tbody tr th:only-of-type {\n",
       "        vertical-align: middle;\n",
       "    }\n",
       "\n",
       "    .dataframe tbody tr th {\n",
       "        vertical-align: top;\n",
       "    }\n",
       "\n",
       "    .dataframe thead th {\n",
       "        text-align: right;\n",
       "    }\n",
       "</style>\n",
       "<table border=\"1\" class=\"dataframe\">\n",
       "  <thead>\n",
       "    <tr style=\"text-align: right;\">\n",
       "      <th></th>\n",
       "      <th>material_code</th>\n",
       "      <th>company_code</th>\n",
       "      <th>country</th>\n",
       "      <th>region</th>\n",
       "      <th>manager_code</th>\n",
       "      <th>month</th>\n",
       "      <th>material_lvl1_name</th>\n",
       "      <th>material_lvl2_name</th>\n",
       "      <th>material_lvl3_name</th>\n",
       "      <th>contract_type</th>\n",
       "      <th>date</th>\n",
       "      <th>volume</th>\n",
       "    </tr>\n",
       "  </thead>\n",
       "  <tbody>\n",
       "    <tr>\n",
       "      <th>0</th>\n",
       "      <td>134</td>\n",
       "      <td>0</td>\n",
       "      <td>Литва</td>\n",
       "      <td>Литва</td>\n",
       "      <td>12261</td>\n",
       "      <td>2018-01-01</td>\n",
       "      <td>Базовые полимеры</td>\n",
       "      <td>ПЭ</td>\n",
       "      <td>ПЭНП</td>\n",
       "      <td>Спот</td>\n",
       "      <td>2018-01-01</td>\n",
       "      <td>43.0</td>\n",
       "    </tr>\n",
       "    <tr>\n",
       "      <th>1</th>\n",
       "      <td>197</td>\n",
       "      <td>0</td>\n",
       "      <td>Китай</td>\n",
       "      <td>Китай</td>\n",
       "      <td>16350</td>\n",
       "      <td>2018-01-01</td>\n",
       "      <td>Базовые полимеры</td>\n",
       "      <td>ПЭ</td>\n",
       "      <td>ПЭНП</td>\n",
       "      <td>Спот</td>\n",
       "      <td>2018-01-02</td>\n",
       "      <td>95.0</td>\n",
       "    </tr>\n",
       "    <tr>\n",
       "      <th>2</th>\n",
       "      <td>794</td>\n",
       "      <td>2162</td>\n",
       "      <td>Казахстан</td>\n",
       "      <td>Атырауская обл.</td>\n",
       "      <td>10942</td>\n",
       "      <td>2018-01-01</td>\n",
       "      <td>Базовые полимеры</td>\n",
       "      <td>ПП</td>\n",
       "      <td>ПП</td>\n",
       "      <td>Контракт</td>\n",
       "      <td>2018-01-02</td>\n",
       "      <td>57.0</td>\n",
       "    </tr>\n",
       "    <tr>\n",
       "      <th>3</th>\n",
       "      <td>134</td>\n",
       "      <td>0</td>\n",
       "      <td>Литва</td>\n",
       "      <td>Литва</td>\n",
       "      <td>12261</td>\n",
       "      <td>2018-01-01</td>\n",
       "      <td>Базовые полимеры</td>\n",
       "      <td>ПЭ</td>\n",
       "      <td>ПЭНП</td>\n",
       "      <td>Спот</td>\n",
       "      <td>2018-01-02</td>\n",
       "      <td>21.0</td>\n",
       "    </tr>\n",
       "    <tr>\n",
       "      <th>4</th>\n",
       "      <td>133</td>\n",
       "      <td>0</td>\n",
       "      <td>Китай</td>\n",
       "      <td>Китай</td>\n",
       "      <td>17745</td>\n",
       "      <td>2018-01-01</td>\n",
       "      <td>Базовые полимеры</td>\n",
       "      <td>ПЭ</td>\n",
       "      <td>ПЭНП</td>\n",
       "      <td>Спот</td>\n",
       "      <td>2018-01-02</td>\n",
       "      <td>150.0</td>\n",
       "    </tr>\n",
       "  </tbody>\n",
       "</table>\n",
       "</div>"
      ],
      "text/plain": [
       "   material_code  company_code    country           region  manager_code  \\\n",
       "0            134             0      Литва            Литва         12261   \n",
       "1            197             0      Китай            Китай         16350   \n",
       "2            794          2162  Казахстан  Атырауская обл.         10942   \n",
       "3            134             0      Литва            Литва         12261   \n",
       "4            133             0      Китай            Китай         17745   \n",
       "\n",
       "       month material_lvl1_name material_lvl2_name material_lvl3_name  \\\n",
       "0 2018-01-01   Базовые полимеры                 ПЭ               ПЭНП   \n",
       "1 2018-01-01   Базовые полимеры                 ПЭ               ПЭНП   \n",
       "2 2018-01-01   Базовые полимеры                 ПП                 ПП   \n",
       "3 2018-01-01   Базовые полимеры                 ПЭ               ПЭНП   \n",
       "4 2018-01-01   Базовые полимеры                 ПЭ               ПЭНП   \n",
       "\n",
       "  contract_type       date  volume  \n",
       "0          Спот 2018-01-01    43.0  \n",
       "1          Спот 2018-01-02    95.0  \n",
       "2      Контракт 2018-01-02    57.0  \n",
       "3          Спот 2018-01-02    21.0  \n",
       "4          Спот 2018-01-02   150.0  "
      ]
     },
     "execution_count": 6,
     "metadata": {},
     "output_type": "execute_result"
    }
   ],
   "source": [
    "df_start.head()"
   ]
  },
  {
   "cell_type": "code",
   "execution_count": 7,
   "id": "broken-jones",
   "metadata": {},
   "outputs": [],
   "source": [
    "#колонки для аггрегации(это условие соревнования)\n",
    "AGG_COLS = [\"material_code\", \"company_code\", \"country\", \"region\", \"manager_code\"]"
   ]
  },
  {
   "cell_type": "code",
   "execution_count": 8,
   "id": "directed-reserve",
   "metadata": {},
   "outputs": [],
   "source": [
    "df = df_start.groupby(AGG_COLS + [\"month\"])[\"volume\"].sum().unstack(fill_value=0)"
   ]
  },
  {
   "cell_type": "code",
   "execution_count": 9,
   "id": "developed-projector",
   "metadata": {},
   "outputs": [
    {
     "data": {
      "text/html": [
       "<div>\n",
       "<style scoped>\n",
       "    .dataframe tbody tr th:only-of-type {\n",
       "        vertical-align: middle;\n",
       "    }\n",
       "\n",
       "    .dataframe tbody tr th {\n",
       "        vertical-align: top;\n",
       "    }\n",
       "\n",
       "    .dataframe thead th {\n",
       "        text-align: right;\n",
       "    }\n",
       "</style>\n",
       "<table border=\"1\" class=\"dataframe\">\n",
       "  <thead>\n",
       "    <tr style=\"text-align: right;\">\n",
       "      <th></th>\n",
       "      <th></th>\n",
       "      <th></th>\n",
       "      <th></th>\n",
       "      <th>month</th>\n",
       "      <th>2018-01-01</th>\n",
       "      <th>2018-02-01</th>\n",
       "      <th>2018-03-01</th>\n",
       "      <th>2018-04-01</th>\n",
       "      <th>2018-05-01</th>\n",
       "      <th>2018-06-01</th>\n",
       "      <th>2018-07-01</th>\n",
       "      <th>2018-08-01</th>\n",
       "      <th>2018-09-01</th>\n",
       "      <th>2018-10-01</th>\n",
       "      <th>...</th>\n",
       "      <th>2019-10-01</th>\n",
       "      <th>2019-11-01</th>\n",
       "      <th>2019-12-01</th>\n",
       "      <th>2020-01-01</th>\n",
       "      <th>2020-02-01</th>\n",
       "      <th>2020-03-01</th>\n",
       "      <th>2020-04-01</th>\n",
       "      <th>2020-05-01</th>\n",
       "      <th>2020-06-01</th>\n",
       "      <th>2020-07-01</th>\n",
       "    </tr>\n",
       "    <tr>\n",
       "      <th>material_code</th>\n",
       "      <th>company_code</th>\n",
       "      <th>country</th>\n",
       "      <th>region</th>\n",
       "      <th>manager_code</th>\n",
       "      <th></th>\n",
       "      <th></th>\n",
       "      <th></th>\n",
       "      <th></th>\n",
       "      <th></th>\n",
       "      <th></th>\n",
       "      <th></th>\n",
       "      <th></th>\n",
       "      <th></th>\n",
       "      <th></th>\n",
       "      <th></th>\n",
       "      <th></th>\n",
       "      <th></th>\n",
       "      <th></th>\n",
       "      <th></th>\n",
       "      <th></th>\n",
       "      <th></th>\n",
       "      <th></th>\n",
       "      <th></th>\n",
       "      <th></th>\n",
       "      <th></th>\n",
       "    </tr>\n",
       "  </thead>\n",
       "  <tbody>\n",
       "    <tr>\n",
       "      <th>124</th>\n",
       "      <th>7278</th>\n",
       "      <th>Россия</th>\n",
       "      <th>Респ. Татарстан</th>\n",
       "      <th>17460</th>\n",
       "      <td>340.0</td>\n",
       "      <td>340.0</td>\n",
       "      <td>260.0</td>\n",
       "      <td>240.0</td>\n",
       "      <td>220.0</td>\n",
       "      <td>220.0</td>\n",
       "      <td>220.0</td>\n",
       "      <td>220.0</td>\n",
       "      <td>220.0</td>\n",
       "      <td>280.0</td>\n",
       "      <td>...</td>\n",
       "      <td>0.0</td>\n",
       "      <td>0.0</td>\n",
       "      <td>0.0</td>\n",
       "      <td>0.0</td>\n",
       "      <td>0.0</td>\n",
       "      <td>0.0</td>\n",
       "      <td>0.0</td>\n",
       "      <td>0.0</td>\n",
       "      <td>0.0</td>\n",
       "      <td>0.0</td>\n",
       "    </tr>\n",
       "    <tr>\n",
       "      <th rowspan=\"4\" valign=\"top\">133</th>\n",
       "      <th rowspan=\"4\" valign=\"top\">0</th>\n",
       "      <th rowspan=\"3\" valign=\"top\">Белоруссия</th>\n",
       "      <th>Минская обл.</th>\n",
       "      <th>10942</th>\n",
       "      <td>0.0</td>\n",
       "      <td>0.0</td>\n",
       "      <td>0.0</td>\n",
       "      <td>200.0</td>\n",
       "      <td>60.0</td>\n",
       "      <td>0.0</td>\n",
       "      <td>0.0</td>\n",
       "      <td>0.0</td>\n",
       "      <td>0.0</td>\n",
       "      <td>0.0</td>\n",
       "      <td>...</td>\n",
       "      <td>181.0</td>\n",
       "      <td>208.0</td>\n",
       "      <td>207.0</td>\n",
       "      <td>17.0</td>\n",
       "      <td>72.0</td>\n",
       "      <td>250.0</td>\n",
       "      <td>394.0</td>\n",
       "      <td>288.0</td>\n",
       "      <td>210.0</td>\n",
       "      <td>249.0</td>\n",
       "    </tr>\n",
       "    <tr>\n",
       "      <th>Могилевская обл.</th>\n",
       "      <th>10942</th>\n",
       "      <td>0.0</td>\n",
       "      <td>0.0</td>\n",
       "      <td>0.0</td>\n",
       "      <td>0.0</td>\n",
       "      <td>140.0</td>\n",
       "      <td>0.0</td>\n",
       "      <td>0.0</td>\n",
       "      <td>0.0</td>\n",
       "      <td>100.0</td>\n",
       "      <td>220.0</td>\n",
       "      <td>...</td>\n",
       "      <td>0.0</td>\n",
       "      <td>0.0</td>\n",
       "      <td>0.0</td>\n",
       "      <td>0.0</td>\n",
       "      <td>0.0</td>\n",
       "      <td>0.0</td>\n",
       "      <td>166.0</td>\n",
       "      <td>62.0</td>\n",
       "      <td>0.0</td>\n",
       "      <td>0.0</td>\n",
       "    </tr>\n",
       "    <tr>\n",
       "      <th>г. Минск</th>\n",
       "      <th>10942</th>\n",
       "      <td>0.0</td>\n",
       "      <td>20.0</td>\n",
       "      <td>0.0</td>\n",
       "      <td>0.0</td>\n",
       "      <td>40.0</td>\n",
       "      <td>160.0</td>\n",
       "      <td>180.0</td>\n",
       "      <td>99.0</td>\n",
       "      <td>60.0</td>\n",
       "      <td>400.0</td>\n",
       "      <td>...</td>\n",
       "      <td>82.0</td>\n",
       "      <td>42.0</td>\n",
       "      <td>0.0</td>\n",
       "      <td>0.0</td>\n",
       "      <td>0.0</td>\n",
       "      <td>0.0</td>\n",
       "      <td>21.0</td>\n",
       "      <td>0.0</td>\n",
       "      <td>0.0</td>\n",
       "      <td>6.0</td>\n",
       "    </tr>\n",
       "    <tr>\n",
       "      <th>Казахстан</th>\n",
       "      <th>г. Нур-Султан</th>\n",
       "      <th>13301</th>\n",
       "      <td>0.0</td>\n",
       "      <td>0.0</td>\n",
       "      <td>30.0</td>\n",
       "      <td>30.0</td>\n",
       "      <td>0.0</td>\n",
       "      <td>0.0</td>\n",
       "      <td>40.0</td>\n",
       "      <td>20.0</td>\n",
       "      <td>40.0</td>\n",
       "      <td>30.0</td>\n",
       "      <td>...</td>\n",
       "      <td>45.0</td>\n",
       "      <td>50.0</td>\n",
       "      <td>45.0</td>\n",
       "      <td>0.0</td>\n",
       "      <td>50.0</td>\n",
       "      <td>40.0</td>\n",
       "      <td>0.0</td>\n",
       "      <td>0.0</td>\n",
       "      <td>50.0</td>\n",
       "      <td>0.0</td>\n",
       "    </tr>\n",
       "  </tbody>\n",
       "</table>\n",
       "<p>5 rows × 31 columns</p>\n",
       "</div>"
      ],
      "text/plain": [
       "month                                                                2018-01-01  \\\n",
       "material_code company_code country    region           manager_code               \n",
       "124           7278         Россия     Респ. Татарстан  17460              340.0   \n",
       "133           0            Белоруссия Минская обл.     10942                0.0   \n",
       "                                      Могилевская обл. 10942                0.0   \n",
       "                                      г. Минск         10942                0.0   \n",
       "                           Казахстан  г. Нур-Султан    13301                0.0   \n",
       "\n",
       "month                                                                2018-02-01  \\\n",
       "material_code company_code country    region           manager_code               \n",
       "124           7278         Россия     Респ. Татарстан  17460              340.0   \n",
       "133           0            Белоруссия Минская обл.     10942                0.0   \n",
       "                                      Могилевская обл. 10942                0.0   \n",
       "                                      г. Минск         10942               20.0   \n",
       "                           Казахстан  г. Нур-Султан    13301                0.0   \n",
       "\n",
       "month                                                                2018-03-01  \\\n",
       "material_code company_code country    region           manager_code               \n",
       "124           7278         Россия     Респ. Татарстан  17460              260.0   \n",
       "133           0            Белоруссия Минская обл.     10942                0.0   \n",
       "                                      Могилевская обл. 10942                0.0   \n",
       "                                      г. Минск         10942                0.0   \n",
       "                           Казахстан  г. Нур-Султан    13301               30.0   \n",
       "\n",
       "month                                                                2018-04-01  \\\n",
       "material_code company_code country    region           manager_code               \n",
       "124           7278         Россия     Респ. Татарстан  17460              240.0   \n",
       "133           0            Белоруссия Минская обл.     10942              200.0   \n",
       "                                      Могилевская обл. 10942                0.0   \n",
       "                                      г. Минск         10942                0.0   \n",
       "                           Казахстан  г. Нур-Султан    13301               30.0   \n",
       "\n",
       "month                                                                2018-05-01  \\\n",
       "material_code company_code country    region           manager_code               \n",
       "124           7278         Россия     Респ. Татарстан  17460              220.0   \n",
       "133           0            Белоруссия Минская обл.     10942               60.0   \n",
       "                                      Могилевская обл. 10942              140.0   \n",
       "                                      г. Минск         10942               40.0   \n",
       "                           Казахстан  г. Нур-Султан    13301                0.0   \n",
       "\n",
       "month                                                                2018-06-01  \\\n",
       "material_code company_code country    region           manager_code               \n",
       "124           7278         Россия     Респ. Татарстан  17460              220.0   \n",
       "133           0            Белоруссия Минская обл.     10942                0.0   \n",
       "                                      Могилевская обл. 10942                0.0   \n",
       "                                      г. Минск         10942              160.0   \n",
       "                           Казахстан  г. Нур-Султан    13301                0.0   \n",
       "\n",
       "month                                                                2018-07-01  \\\n",
       "material_code company_code country    region           manager_code               \n",
       "124           7278         Россия     Респ. Татарстан  17460              220.0   \n",
       "133           0            Белоруссия Минская обл.     10942                0.0   \n",
       "                                      Могилевская обл. 10942                0.0   \n",
       "                                      г. Минск         10942              180.0   \n",
       "                           Казахстан  г. Нур-Султан    13301               40.0   \n",
       "\n",
       "month                                                                2018-08-01  \\\n",
       "material_code company_code country    region           manager_code               \n",
       "124           7278         Россия     Респ. Татарстан  17460              220.0   \n",
       "133           0            Белоруссия Минская обл.     10942                0.0   \n",
       "                                      Могилевская обл. 10942                0.0   \n",
       "                                      г. Минск         10942               99.0   \n",
       "                           Казахстан  г. Нур-Султан    13301               20.0   \n",
       "\n",
       "month                                                                2018-09-01  \\\n",
       "material_code company_code country    region           manager_code               \n",
       "124           7278         Россия     Респ. Татарстан  17460              220.0   \n",
       "133           0            Белоруссия Минская обл.     10942                0.0   \n",
       "                                      Могилевская обл. 10942              100.0   \n",
       "                                      г. Минск         10942               60.0   \n",
       "                           Казахстан  г. Нур-Султан    13301               40.0   \n",
       "\n",
       "month                                                                2018-10-01  \\\n",
       "material_code company_code country    region           manager_code               \n",
       "124           7278         Россия     Респ. Татарстан  17460              280.0   \n",
       "133           0            Белоруссия Минская обл.     10942                0.0   \n",
       "                                      Могилевская обл. 10942              220.0   \n",
       "                                      г. Минск         10942              400.0   \n",
       "                           Казахстан  г. Нур-Султан    13301               30.0   \n",
       "\n",
       "month                                                                ...  \\\n",
       "material_code company_code country    region           manager_code  ...   \n",
       "124           7278         Россия     Респ. Татарстан  17460         ...   \n",
       "133           0            Белоруссия Минская обл.     10942         ...   \n",
       "                                      Могилевская обл. 10942         ...   \n",
       "                                      г. Минск         10942         ...   \n",
       "                           Казахстан  г. Нур-Султан    13301         ...   \n",
       "\n",
       "month                                                                2019-10-01  \\\n",
       "material_code company_code country    region           manager_code               \n",
       "124           7278         Россия     Респ. Татарстан  17460                0.0   \n",
       "133           0            Белоруссия Минская обл.     10942              181.0   \n",
       "                                      Могилевская обл. 10942                0.0   \n",
       "                                      г. Минск         10942               82.0   \n",
       "                           Казахстан  г. Нур-Султан    13301               45.0   \n",
       "\n",
       "month                                                                2019-11-01  \\\n",
       "material_code company_code country    region           manager_code               \n",
       "124           7278         Россия     Респ. Татарстан  17460                0.0   \n",
       "133           0            Белоруссия Минская обл.     10942              208.0   \n",
       "                                      Могилевская обл. 10942                0.0   \n",
       "                                      г. Минск         10942               42.0   \n",
       "                           Казахстан  г. Нур-Султан    13301               50.0   \n",
       "\n",
       "month                                                                2019-12-01  \\\n",
       "material_code company_code country    region           manager_code               \n",
       "124           7278         Россия     Респ. Татарстан  17460                0.0   \n",
       "133           0            Белоруссия Минская обл.     10942              207.0   \n",
       "                                      Могилевская обл. 10942                0.0   \n",
       "                                      г. Минск         10942                0.0   \n",
       "                           Казахстан  г. Нур-Султан    13301               45.0   \n",
       "\n",
       "month                                                                2020-01-01  \\\n",
       "material_code company_code country    region           manager_code               \n",
       "124           7278         Россия     Респ. Татарстан  17460                0.0   \n",
       "133           0            Белоруссия Минская обл.     10942               17.0   \n",
       "                                      Могилевская обл. 10942                0.0   \n",
       "                                      г. Минск         10942                0.0   \n",
       "                           Казахстан  г. Нур-Султан    13301                0.0   \n",
       "\n",
       "month                                                                2020-02-01  \\\n",
       "material_code company_code country    region           manager_code               \n",
       "124           7278         Россия     Респ. Татарстан  17460                0.0   \n",
       "133           0            Белоруссия Минская обл.     10942               72.0   \n",
       "                                      Могилевская обл. 10942                0.0   \n",
       "                                      г. Минск         10942                0.0   \n",
       "                           Казахстан  г. Нур-Султан    13301               50.0   \n",
       "\n",
       "month                                                                2020-03-01  \\\n",
       "material_code company_code country    region           manager_code               \n",
       "124           7278         Россия     Респ. Татарстан  17460                0.0   \n",
       "133           0            Белоруссия Минская обл.     10942              250.0   \n",
       "                                      Могилевская обл. 10942                0.0   \n",
       "                                      г. Минск         10942                0.0   \n",
       "                           Казахстан  г. Нур-Султан    13301               40.0   \n",
       "\n",
       "month                                                                2020-04-01  \\\n",
       "material_code company_code country    region           manager_code               \n",
       "124           7278         Россия     Респ. Татарстан  17460                0.0   \n",
       "133           0            Белоруссия Минская обл.     10942              394.0   \n",
       "                                      Могилевская обл. 10942              166.0   \n",
       "                                      г. Минск         10942               21.0   \n",
       "                           Казахстан  г. Нур-Султан    13301                0.0   \n",
       "\n",
       "month                                                                2020-05-01  \\\n",
       "material_code company_code country    region           manager_code               \n",
       "124           7278         Россия     Респ. Татарстан  17460                0.0   \n",
       "133           0            Белоруссия Минская обл.     10942              288.0   \n",
       "                                      Могилевская обл. 10942               62.0   \n",
       "                                      г. Минск         10942                0.0   \n",
       "                           Казахстан  г. Нур-Султан    13301                0.0   \n",
       "\n",
       "month                                                                2020-06-01  \\\n",
       "material_code company_code country    region           manager_code               \n",
       "124           7278         Россия     Респ. Татарстан  17460                0.0   \n",
       "133           0            Белоруссия Минская обл.     10942              210.0   \n",
       "                                      Могилевская обл. 10942                0.0   \n",
       "                                      г. Минск         10942                0.0   \n",
       "                           Казахстан  г. Нур-Султан    13301               50.0   \n",
       "\n",
       "month                                                                2020-07-01  \n",
       "material_code company_code country    region           manager_code              \n",
       "124           7278         Россия     Респ. Татарстан  17460                0.0  \n",
       "133           0            Белоруссия Минская обл.     10942              249.0  \n",
       "                                      Могилевская обл. 10942                0.0  \n",
       "                                      г. Минск         10942                6.0  \n",
       "                           Казахстан  г. Нур-Султан    13301                0.0  \n",
       "\n",
       "[5 rows x 31 columns]"
      ]
     },
     "execution_count": 9,
     "metadata": {},
     "output_type": "execute_result"
    }
   ],
   "source": [
    "#наши данные в виде сводной таблицы для материала, компании, страны-экспортера, региона и менеджера, который делал продажи\n",
    "#далее - идут сами продажи по месяцам\n",
    "df.head()"
   ]
  },
  {
   "cell_type": "code",
   "execution_count": 10,
   "id": "boolean-allen",
   "metadata": {},
   "outputs": [
    {
     "data": {
      "text/plain": [
       "(941, 31)"
      ]
     },
     "execution_count": 10,
     "metadata": {},
     "output_type": "execute_result"
    }
   ],
   "source": [
    "df.shape"
   ]
  },
  {
   "cell_type": "code",
   "execution_count": 11,
   "id": "comfortable-money",
   "metadata": {},
   "outputs": [],
   "source": [
    "#разделяем на тест и трейн выборки по временным рядам\n",
    "tr_range = pd.date_range(\"2019-01-01\", \"2020-03-01\", freq=\"MS\")\n",
    "ts_range = pd.date_range(\"2020-04-01\", \"2020-07-01\", freq=\"MS\")"
   ]
  },
  {
   "cell_type": "code",
   "execution_count": null,
   "id": "adverse-strain",
   "metadata": {},
   "outputs": [],
   "source": []
  },
  {
   "cell_type": "code",
   "execution_count": null,
   "id": "tight-transparency",
   "metadata": {},
   "outputs": [],
   "source": []
  },
  {
   "cell_type": "code",
   "execution_count": 12,
   "id": "willing-faculty",
   "metadata": {},
   "outputs": [],
   "source": [
    "#эта функция получает данные и месяцы, и преобразует данные с заданным оффсетом(смещением) - здесь для каждого месяца \n",
    "#мы будем брать данные за предыдущие 6 месяцев, а так же еще несколько показателей - о них ниже\n",
    "def get_features(df: pd.DataFrame, month: pd.Timestamp) -> pd.DataFrame:\n",
    "    \"\"\"Calculate features for `month`.\"\"\"\n",
    "    # задаем полугодовой период\n",
    "    start_period = month - pd.offsets.MonthBegin(6)\n",
    "    end_period = month - pd.offsets.MonthBegin(1)\n",
    "\n",
    "    df = df.loc[:, :end_period]\n",
    "\n",
    "    features = pd.DataFrame([], index=df.index)\n",
    "    features[\"month\"] = month.month\n",
    "    #веичина спроса за каждый месяц из 6\n",
    "    features[[f\"vol_tm{i}\" for i in range(6, 0, -1)]] = df.loc[:, start_period:end_period].copy()\n",
    "    #так же будем использовать скользящие среднее, максимум и минимум за 12 месяцев до заданного месяца\n",
    "    rolling = df.rolling(12, axis=1, min_periods=1)\n",
    "    features = features.join(rolling.mean().iloc[:, -1].rename(\"last_year_avg\"))\n",
    "    features = features.join(rolling.min().iloc[:, -1].rename(\"last_year_min\"))\n",
    "    features = features.join(rolling.max().iloc[:, -1].rename(\"last_year_max\"))\n",
    "    features[\"month\"] = month.month\n",
    "    return features"
   ]
  },
  {
   "cell_type": "code",
   "execution_count": 13,
   "id": "interested-animal",
   "metadata": {},
   "outputs": [],
   "source": [
    "full_features = {}\n",
    "#теперь получим все данные с помощью функции\n",
    "for dataset, dataset_range in zip([\"tr\", \"ts\"], [tr_range, ts_range]):\n",
    "    dataset_features = []\n",
    "    for target_month in dataset_range:\n",
    "        features = get_features(df, target_month)\n",
    "        features[\"target\"] = df[target_month]\n",
    "        dataset_features.append(features.reset_index())\n",
    "    full_features[dataset] = pd.concat(dataset_features, ignore_index=True)"
   ]
  },
  {
   "cell_type": "code",
   "execution_count": 14,
   "id": "hybrid-gravity",
   "metadata": {},
   "outputs": [],
   "source": [
    "FTS_COLS = [\"material_code\", \"company_code\",\"manager_code\", \"month\",\n",
    "            \"vol_tm6\", \"vol_tm5\", \"vol_tm4\", \"vol_tm3\", \"vol_tm2\", \"vol_tm1\",\n",
    "            \"last_year_avg\", \"last_year_min\", \"last_year_max\"]\n",
    "TARGET = \"target\""
   ]
  },
  {
   "cell_type": "code",
   "execution_count": 15,
   "id": "provincial-fitting",
   "metadata": {},
   "outputs": [],
   "source": [
    "#для простоты напишем функцию - по условию - это RMSLE\n",
    "def get_score(model):\n",
    "    preds = model.predict(full_features['ts'][FTS_COLS])\n",
    "    preds = np.where(preds < 0, 0,  preds)\n",
    "    res = np.sqrt(mean_squared_log_error(preds, full_features['ts'][TARGET]))\n",
    "    return res"
   ]
  },
  {
   "cell_type": "code",
   "execution_count": 16,
   "id": "marine-humidity",
   "metadata": {},
   "outputs": [],
   "source": [
    "CAT_COLS = [\"material_code\", \"company_code\", \"country\", \"region\", \"manager_code\", \"month\"]"
   ]
  },
  {
   "cell_type": "code",
   "execution_count": 17,
   "id": "assisted-charge",
   "metadata": {},
   "outputs": [],
   "source": [
    "from sklearn.ensemble import RandomForestRegressor"
   ]
  },
  {
   "cell_type": "code",
   "execution_count": 23,
   "id": "binding-oxygen",
   "metadata": {},
   "outputs": [],
   "source": [
    "from keras.metrics import MeanSquaredLogarithmicError\n",
    "from sklearn.metrics import mean_squared_log_error"
   ]
  },
  {
   "cell_type": "code",
   "execution_count": 19,
   "id": "prerequisite-chemical",
   "metadata": {},
   "outputs": [],
   "source": [
    "FTS_COLS_no_cat = [\"material_code\", \"company_code\",\"manager_code\", \"month\",\n",
    "            \"vol_tm6\", \"vol_tm5\", \"vol_tm4\", \"vol_tm3\", \"vol_tm2\", \"vol_tm1\",\n",
    "            \"last_year_avg\", \"last_year_min\", \"last_year_max\"]\n"
   ]
  },
  {
   "cell_type": "code",
   "execution_count": 20,
   "id": "infectious-minister",
   "metadata": {},
   "outputs": [],
   "source": [
    "#аналогичная функция скора только без учета категориальных переменных\n",
    "def get_score_no_cat(model):\n",
    "    preds = model.predict(full_features['ts'][FTS_COLS_no_cat])\n",
    "    preds = np.where(preds < 0, 0,  preds)\n",
    "    res = np.sqrt(mean_squared_log_error(preds, full_features['ts'][TARGET]))\n",
    "    return res"
   ]
  },
  {
   "cell_type": "code",
   "execution_count": 21,
   "id": "prescription-retail",
   "metadata": {},
   "outputs": [
    {
     "data": {
      "text/plain": [
       "RandomForestRegressor(n_estimators=1000, n_jobs=-1, random_state=0)"
      ]
     },
     "execution_count": 21,
     "metadata": {},
     "output_type": "execute_result"
    }
   ],
   "source": [
    "#модель случайного леса\n",
    "rf = RandomForestRegressor(n_estimators=1000, n_jobs=-1, random_state=0)\n",
    "rf.fit(full_features[\"tr\"][FTS_COLS_no_cat], full_features[\"tr\"][TARGET])"
   ]
  },
  {
   "cell_type": "code",
   "execution_count": 24,
   "id": "preliminary-palestine",
   "metadata": {},
   "outputs": [
    {
     "data": {
      "text/plain": [
       "2.1805620504884153"
      ]
     },
     "execution_count": 24,
     "metadata": {},
     "output_type": "execute_result"
    }
   ],
   "source": [
    "#скор\n",
    "get_score_no_cat(rf)"
   ]
  },
  {
   "cell_type": "code",
   "execution_count": 184,
   "id": "secure-township",
   "metadata": {},
   "outputs": [],
   "source": [
    "from sklearn.ensemble import AdaBoostRegressor, BaggingRegressor, ExtraTreesRegressor, GradientBoostingRegressor, StackingRegressor, VotingRegressor\n",
    "    \n",
    "    \n",
    "    "
   ]
  },
  {
   "cell_type": "code",
   "execution_count": 188,
   "id": "recovered-tours",
   "metadata": {},
   "outputs": [],
   "source": [
    "#попробуем сразу несколько моделей с дефолтными параметрами\n",
    "estimators = [\n",
    "        ('rf', RandomForestRegressor()),\n",
    "        ('grd', GradientBoostingRegressor())]\n",
    "\n",
    "models = {'AdaBoostRegressor' : AdaBoostRegressor(),\n",
    "          'BaggingRegressor' : BaggingRegressor(),\n",
    "          'ExtraTreesRegressor' : ExtraTreesRegressor(), \n",
    "          'GradientBoostingRegressor' : GradientBoostingRegressor(),\n",
    "          'StackingRegressor' : StackingRegressor(estimators = estimators), \n",
    "          'VotingRegressor' : VotingRegressor(estimators = estimators)}\n"
   ]
  },
  {
   "cell_type": "code",
   "execution_count": 204,
   "id": "continued-baptist",
   "metadata": {},
   "outputs": [
    {
     "name": "stdout",
     "output_type": "stream",
     "text": [
      "AdaBoostRegressor() is fitted successfully\n",
      "BaggingRegressor() is fitted successfully\n",
      "ExtraTreesRegressor() is fitted successfully\n",
      "GradientBoostingRegressor() is fitted successfully\n",
      "StackingRegressor(estimators=[('rf', RandomForestRegressor()),\n",
      "                              ('grd', GradientBoostingRegressor())]) is fitted successfully\n",
      "VotingRegressor(estimators=[('rf', RandomForestRegressor()),\n",
      "                            ('grd', GradientBoostingRegressor())]) is fitted successfully\n"
     ]
    }
   ],
   "source": [
    "#фитим каждую модель на наших данных и выводим принт об удачном фитинге\n",
    "results = {}\n",
    "for model in models.values():\n",
    "    model.fit(full_features[\"tr\"][FTS_COLS_no_cat], full_features[\"tr\"][TARGET])\n",
    "    results[model] = get_score_no_cat(model)\n",
    "    print(f'{model} is fitted successfully')"
   ]
  },
  {
   "cell_type": "code",
   "execution_count": 205,
   "id": "referenced-prince",
   "metadata": {},
   "outputs": [
    {
     "data": {
      "text/plain": [
       "{AdaBoostRegressor(): 4.014653725590492,\n",
       " BaggingRegressor(): 2.117072304193702,\n",
       " ExtraTreesRegressor(): 2.144555869208375,\n",
       " GradientBoostingRegressor(): 2.1428955663988773,\n",
       " StackingRegressor(estimators=[('rf', RandomForestRegressor()),\n",
       "                               ('grd', GradientBoostingRegressor())]): 2.1179729183881637,\n",
       " VotingRegressor(estimators=[('rf', RandomForestRegressor()),\n",
       "                             ('grd', GradientBoostingRegressor())]): 2.1387699089897034}"
      ]
     },
     "execution_count": 205,
     "metadata": {},
     "output_type": "execute_result"
    }
   ],
   "source": [
    "#смотрим на результаты\n",
    "results"
   ]
  },
  {
   "cell_type": "code",
   "execution_count": 26,
   "id": "treated-peeing",
   "metadata": {},
   "outputs": [],
   "source": [
    "from sklearn.ensemble import RandomForestRegressor, StackingRegressor, GradientBoostingRegressor"
   ]
  },
  {
   "cell_type": "code",
   "execution_count": 27,
   "id": "cognitive-matter",
   "metadata": {},
   "outputs": [],
   "source": [
    "#стакинг модели из градиентного бустинга и случайного леса\n",
    "rf = RandomForestRegressor(n_estimators = 2000, n_jobs = -1, random_state = 0)\n",
    "gd = GradientBoostingRegressor(loss ='huber', random_state=0)\n",
    "estimators = [\n",
    "        ('rf', RandomForestRegressor()),\n",
    "        ('grd', GradientBoostingRegressor())]\n",
    "stacking = StackingRegressor(estimators=estimators)"
   ]
  },
  {
   "cell_type": "code",
   "execution_count": 30,
   "id": "rubber-bench",
   "metadata": {},
   "outputs": [
    {
     "data": {
      "text/plain": [
       "RandomForestRegressor(n_estimators=2000, n_jobs=-1, random_state=0)"
      ]
     },
     "execution_count": 30,
     "metadata": {},
     "output_type": "execute_result"
    }
   ],
   "source": [
    "rf.fit(full_features[\"tr\"][FTS_COLS_no_cat], full_features[\"tr\"][TARGET])"
   ]
  },
  {
   "cell_type": "code",
   "execution_count": 31,
   "id": "wireless-trick",
   "metadata": {},
   "outputs": [
    {
     "data": {
      "text/plain": [
       "GradientBoostingRegressor(loss='huber', random_state=0)"
      ]
     },
     "execution_count": 31,
     "metadata": {},
     "output_type": "execute_result"
    }
   ],
   "source": [
    "gd.fit(full_features[\"tr\"][FTS_COLS_no_cat], full_features[\"tr\"][TARGET])"
   ]
  },
  {
   "cell_type": "code",
   "execution_count": 37,
   "id": "dramatic-apple",
   "metadata": {},
   "outputs": [],
   "source": [
    "from sklearn.metrics import mean_squared_log_error"
   ]
  },
  {
   "cell_type": "code",
   "execution_count": 38,
   "id": "stone-facial",
   "metadata": {},
   "outputs": [
    {
     "data": {
      "text/plain": [
       "2.1289519327231705"
      ]
     },
     "execution_count": 38,
     "metadata": {},
     "output_type": "execute_result"
    }
   ],
   "source": [
    "get_score_no_cat(rf)"
   ]
  },
  {
   "cell_type": "code",
   "execution_count": 39,
   "id": "hispanic-mount",
   "metadata": {},
   "outputs": [
    {
     "data": {
      "text/plain": [
       "1.995300247739532"
      ]
     },
     "execution_count": 39,
     "metadata": {},
     "output_type": "execute_result"
    }
   ],
   "source": [
    "get_score_no_cat(gd)"
   ]
  },
  {
   "cell_type": "code",
   "execution_count": 40,
   "id": "adjusted-chain",
   "metadata": {},
   "outputs": [
    {
     "data": {
      "text/plain": [
       "StackingRegressor(estimators=[('rf', RandomForestRegressor()),\n",
       "                              ('grd', GradientBoostingRegressor())])"
      ]
     },
     "execution_count": 40,
     "metadata": {},
     "output_type": "execute_result"
    }
   ],
   "source": [
    "stacking.fit(full_features[\"tr\"][FTS_COLS_no_cat], full_features[\"tr\"][TARGET])"
   ]
  },
  {
   "cell_type": "code",
   "execution_count": 41,
   "id": "continent-seafood",
   "metadata": {},
   "outputs": [
    {
     "data": {
      "text/plain": [
       "2.1283960084226705"
      ]
     },
     "execution_count": 41,
     "metadata": {},
     "output_type": "execute_result"
    }
   ],
   "source": [
    "get_score_no_cat(stacking)"
   ]
  },
  {
   "cell_type": "code",
   "execution_count": 45,
   "id": "printable-speaker",
   "metadata": {},
   "outputs": [
    {
     "name": "stdout",
     "output_type": "stream",
     "text": [
      "Learning rate set to 0.048815\n",
      "0:\tlearn: 306.0235982\ttest: 320.9469382\tbest: 320.9469382 (0)\ttotal: 73.9ms\tremaining: 2m 27s\n",
      "10:\tlearn: 228.8491450\ttest: 263.9061136\tbest: 263.9061136 (10)\ttotal: 172ms\tremaining: 31s\n",
      "20:\tlearn: 184.5916748\ttest: 236.9767402\tbest: 236.9767402 (20)\ttotal: 297ms\tremaining: 28s\n",
      "30:\tlearn: 160.8291164\ttest: 225.2995770\tbest: 225.2995770 (30)\ttotal: 384ms\tremaining: 24.4s\n",
      "40:\tlearn: 147.7530907\ttest: 219.9508977\tbest: 219.9508977 (40)\ttotal: 468ms\tremaining: 22.3s\n",
      "50:\tlearn: 140.6362480\ttest: 217.7432075\tbest: 217.7432075 (50)\ttotal: 556ms\tremaining: 21.2s\n",
      "60:\tlearn: 135.5530661\ttest: 217.1163753\tbest: 217.0845421 (59)\ttotal: 634ms\tremaining: 20.2s\n",
      "70:\tlearn: 131.9383371\ttest: 217.0239015\tbest: 217.0239015 (70)\ttotal: 728ms\tremaining: 19.8s\n",
      "80:\tlearn: 129.8237580\ttest: 217.2954534\tbest: 217.0239015 (70)\ttotal: 839ms\tremaining: 19.9s\n",
      "90:\tlearn: 127.2426976\ttest: 217.4936020\tbest: 217.0239015 (70)\ttotal: 938ms\tremaining: 19.7s\n",
      "100:\tlearn: 125.7029039\ttest: 217.5045916\tbest: 217.0239015 (70)\ttotal: 1.16s\tremaining: 21.8s\n",
      "Stopped by overfitting detector  (30 iterations wait)\n",
      "\n",
      "bestTest = 217.0239015\n",
      "bestIteration = 70\n",
      "\n",
      "Shrink model to first 71 iterations.\n"
     ]
    },
    {
     "data": {
      "text/plain": [
       "<catboost.core.CatBoostRegressor at 0x7f8bb4d70c10>"
      ]
     },
     "execution_count": 45,
     "metadata": {},
     "output_type": "execute_result"
    }
   ],
   "source": [
    "#так же попробуем алгоритм catboost, который позволяет передавать категориальыне переменные \n",
    "from catboost import CatBoostRegressor\n",
    "model_cat = CatBoostRegressor(iterations=2000,\n",
    "                          early_stopping_rounds=30,\n",
    "                          depth=6,\n",
    "                          cat_features=CAT_COLS,\n",
    "                          random_state=0,\n",
    "                          verbose=10)\n",
    "model_cat.fit(full_features[\"tr\"][FTS_COLS], full_features[\"tr\"][TARGET],\n",
    "          eval_set=(full_features[\"ts\"][FTS_COLS], full_features[\"ts\"][TARGET]))"
   ]
  },
  {
   "cell_type": "code",
   "execution_count": 46,
   "id": "adjusted-breathing",
   "metadata": {},
   "outputs": [
    {
     "data": {
      "text/plain": [
       "2.2891901017334026"
      ]
     },
     "execution_count": 46,
     "metadata": {},
     "output_type": "execute_result"
    }
   ],
   "source": [
    "get_score(model_cat)"
   ]
  },
  {
   "cell_type": "markdown",
   "id": "psychological-concert",
   "metadata": {},
   "source": [
    "по результатам видно, что наилучшая модель - градиентный бустинг, попробуем его оптимизировать с помощью hyperopt"
   ]
  },
  {
   "cell_type": "code",
   "execution_count": 51,
   "id": "interesting-appraisal",
   "metadata": {},
   "outputs": [],
   "source": [
    "from hyperopt import fmin, STATUS_OK, hp, tpe, Trials"
   ]
  },
  {
   "cell_type": "code",
   "execution_count": 171,
   "id": "global-helmet",
   "metadata": {},
   "outputs": [],
   "source": [
    "#defining the space of parameters\n",
    "space = {\n",
    "        \"max_depth\" : hp.quniform(\"max_depth\", 10,2000,10),\n",
    "        \"min_samples_leaf\" : hp.uniform(\"min_samples_leaf\", 0,0.5),\n",
    "        \"min_samples_split\" : hp.uniform(\"min_samples_split\", 0,1),\n",
    "        \"n_estimators\" : hp.choice(\"n_estimators\", [100,200,300,400,600,800,1000,1200, 1400, 1600, 1800, 2000]),\n",
    "        \"loss\" : hp.choice(\"loss\",[\"ls\", \"lad\", \"huber\", \"quantile\"]),\n",
    "        \"learning_rate\" :  hp.uniform(\"learning_rate\", 0,1)}"
   ]
  },
  {
   "cell_type": "code",
   "execution_count": 172,
   "id": "painted-screw",
   "metadata": {},
   "outputs": [],
   "source": [
    "#задаем функцию тьюининга\n",
    "def objective(space):\n",
    "    model = GradientBoostingRegressor(\n",
    "                                  max_depth = space[\"max_depth\"],\n",
    "                                  min_samples_leaf = space[\"min_samples_leaf\"],\n",
    "                                  min_samples_split = space[\"min_samples_split\"],\n",
    "                                  n_estimators = space[\"n_estimators\"],\n",
    "                                  loss = space['loss'],\n",
    "                                  learning_rate = space['learning_rate']\n",
    "                                  )\n",
    "    model.fit(full_features[\"tr\"][FTS_COLS_no_cat], full_features[\"tr\"][TARGET])\n",
    "    \n",
    "    return {\"loss\" : get_score_no_cat(model), \"status\" : STATUS_OK}"
   ]
  },
  {
   "cell_type": "code",
   "execution_count": 173,
   "id": "empirical-sacramento",
   "metadata": {},
   "outputs": [
    {
     "name": "stdout",
     "output_type": "stream",
     "text": [
      " 23%|██▎       | 70/300 [14:10<46:34, 12.15s/trial, best loss: 1.8633872204793933]  \n"
     ]
    },
    {
     "ename": "KeyboardInterrupt",
     "evalue": "",
     "output_type": "error",
     "traceback": [
      "\u001b[0;31m---------------------------------------------------------------------------\u001b[0m",
      "\u001b[0;31mKeyboardInterrupt\u001b[0m                         Traceback (most recent call last)",
      "\u001b[0;32m<ipython-input-173-aafd60558d63>\u001b[0m in \u001b[0;36m<module>\u001b[0;34m\u001b[0m\n\u001b[1;32m      1\u001b[0m \u001b[0mtrials\u001b[0m \u001b[0;34m=\u001b[0m \u001b[0mTrials\u001b[0m\u001b[0;34m(\u001b[0m\u001b[0;34m)\u001b[0m\u001b[0;34m\u001b[0m\u001b[0;34m\u001b[0m\u001b[0m\n\u001b[1;32m      2\u001b[0m \u001b[0;34m\u001b[0m\u001b[0m\n\u001b[0;32m----> 3\u001b[0;31m optimized_gd = fmin(fn = objective,\n\u001b[0m\u001b[1;32m      4\u001b[0m                    \u001b[0mspace\u001b[0m \u001b[0;34m=\u001b[0m \u001b[0mspace\u001b[0m\u001b[0;34m,\u001b[0m\u001b[0;34m\u001b[0m\u001b[0;34m\u001b[0m\u001b[0m\n\u001b[1;32m      5\u001b[0m                    \u001b[0malgo\u001b[0m \u001b[0;34m=\u001b[0m \u001b[0mtpe\u001b[0m\u001b[0;34m.\u001b[0m\u001b[0msuggest\u001b[0m\u001b[0;34m,\u001b[0m\u001b[0;34m\u001b[0m\u001b[0;34m\u001b[0m\u001b[0m\n",
      "\u001b[0;32m~/opt/anaconda3/lib/python3.8/site-packages/hyperopt/fmin.py\u001b[0m in \u001b[0;36mfmin\u001b[0;34m(fn, space, algo, max_evals, timeout, loss_threshold, trials, rstate, allow_trials_fmin, pass_expr_memo_ctrl, catch_eval_exceptions, verbose, return_argmin, points_to_evaluate, max_queue_len, show_progressbar, early_stop_fn, trials_save_file)\u001b[0m\n\u001b[1;32m    505\u001b[0m \u001b[0;34m\u001b[0m\u001b[0m\n\u001b[1;32m    506\u001b[0m     \u001b[0;32mif\u001b[0m \u001b[0mallow_trials_fmin\u001b[0m \u001b[0;32mand\u001b[0m \u001b[0mhasattr\u001b[0m\u001b[0;34m(\u001b[0m\u001b[0mtrials\u001b[0m\u001b[0;34m,\u001b[0m \u001b[0;34m\"fmin\"\u001b[0m\u001b[0;34m)\u001b[0m\u001b[0;34m:\u001b[0m\u001b[0;34m\u001b[0m\u001b[0;34m\u001b[0m\u001b[0m\n\u001b[0;32m--> 507\u001b[0;31m         return trials.fmin(\n\u001b[0m\u001b[1;32m    508\u001b[0m             \u001b[0mfn\u001b[0m\u001b[0;34m,\u001b[0m\u001b[0;34m\u001b[0m\u001b[0;34m\u001b[0m\u001b[0m\n\u001b[1;32m    509\u001b[0m             \u001b[0mspace\u001b[0m\u001b[0;34m,\u001b[0m\u001b[0;34m\u001b[0m\u001b[0;34m\u001b[0m\u001b[0m\n",
      "\u001b[0;32m~/opt/anaconda3/lib/python3.8/site-packages/hyperopt/base.py\u001b[0m in \u001b[0;36mfmin\u001b[0;34m(self, fn, space, algo, max_evals, timeout, loss_threshold, max_queue_len, rstate, verbose, pass_expr_memo_ctrl, catch_eval_exceptions, return_argmin, show_progressbar, early_stop_fn, trials_save_file)\u001b[0m\n\u001b[1;32m    680\u001b[0m         \u001b[0;32mfrom\u001b[0m \u001b[0;34m.\u001b[0m\u001b[0mfmin\u001b[0m \u001b[0;32mimport\u001b[0m \u001b[0mfmin\u001b[0m\u001b[0;34m\u001b[0m\u001b[0;34m\u001b[0m\u001b[0m\n\u001b[1;32m    681\u001b[0m \u001b[0;34m\u001b[0m\u001b[0m\n\u001b[0;32m--> 682\u001b[0;31m         return fmin(\n\u001b[0m\u001b[1;32m    683\u001b[0m             \u001b[0mfn\u001b[0m\u001b[0;34m,\u001b[0m\u001b[0;34m\u001b[0m\u001b[0;34m\u001b[0m\u001b[0m\n\u001b[1;32m    684\u001b[0m             \u001b[0mspace\u001b[0m\u001b[0;34m,\u001b[0m\u001b[0;34m\u001b[0m\u001b[0;34m\u001b[0m\u001b[0m\n",
      "\u001b[0;32m~/opt/anaconda3/lib/python3.8/site-packages/hyperopt/fmin.py\u001b[0m in \u001b[0;36mfmin\u001b[0;34m(fn, space, algo, max_evals, timeout, loss_threshold, trials, rstate, allow_trials_fmin, pass_expr_memo_ctrl, catch_eval_exceptions, verbose, return_argmin, points_to_evaluate, max_queue_len, show_progressbar, early_stop_fn, trials_save_file)\u001b[0m\n\u001b[1;32m    551\u001b[0m \u001b[0;34m\u001b[0m\u001b[0m\n\u001b[1;32m    552\u001b[0m     \u001b[0;31m# next line is where the fmin is actually executed\u001b[0m\u001b[0;34m\u001b[0m\u001b[0;34m\u001b[0m\u001b[0;34m\u001b[0m\u001b[0m\n\u001b[0;32m--> 553\u001b[0;31m     \u001b[0mrval\u001b[0m\u001b[0;34m.\u001b[0m\u001b[0mexhaust\u001b[0m\u001b[0;34m(\u001b[0m\u001b[0;34m)\u001b[0m\u001b[0;34m\u001b[0m\u001b[0;34m\u001b[0m\u001b[0m\n\u001b[0m\u001b[1;32m    554\u001b[0m \u001b[0;34m\u001b[0m\u001b[0m\n\u001b[1;32m    555\u001b[0m     \u001b[0;32mif\u001b[0m \u001b[0mreturn_argmin\u001b[0m\u001b[0;34m:\u001b[0m\u001b[0;34m\u001b[0m\u001b[0;34m\u001b[0m\u001b[0m\n",
      "\u001b[0;32m~/opt/anaconda3/lib/python3.8/site-packages/hyperopt/fmin.py\u001b[0m in \u001b[0;36mexhaust\u001b[0;34m(self)\u001b[0m\n\u001b[1;32m    354\u001b[0m     \u001b[0;32mdef\u001b[0m \u001b[0mexhaust\u001b[0m\u001b[0;34m(\u001b[0m\u001b[0mself\u001b[0m\u001b[0;34m)\u001b[0m\u001b[0;34m:\u001b[0m\u001b[0;34m\u001b[0m\u001b[0;34m\u001b[0m\u001b[0m\n\u001b[1;32m    355\u001b[0m         \u001b[0mn_done\u001b[0m \u001b[0;34m=\u001b[0m \u001b[0mlen\u001b[0m\u001b[0;34m(\u001b[0m\u001b[0mself\u001b[0m\u001b[0;34m.\u001b[0m\u001b[0mtrials\u001b[0m\u001b[0;34m)\u001b[0m\u001b[0;34m\u001b[0m\u001b[0;34m\u001b[0m\u001b[0m\n\u001b[0;32m--> 356\u001b[0;31m         \u001b[0mself\u001b[0m\u001b[0;34m.\u001b[0m\u001b[0mrun\u001b[0m\u001b[0;34m(\u001b[0m\u001b[0mself\u001b[0m\u001b[0;34m.\u001b[0m\u001b[0mmax_evals\u001b[0m \u001b[0;34m-\u001b[0m \u001b[0mn_done\u001b[0m\u001b[0;34m,\u001b[0m \u001b[0mblock_until_done\u001b[0m\u001b[0;34m=\u001b[0m\u001b[0mself\u001b[0m\u001b[0;34m.\u001b[0m\u001b[0masynchronous\u001b[0m\u001b[0;34m)\u001b[0m\u001b[0;34m\u001b[0m\u001b[0;34m\u001b[0m\u001b[0m\n\u001b[0m\u001b[1;32m    357\u001b[0m         \u001b[0mself\u001b[0m\u001b[0;34m.\u001b[0m\u001b[0mtrials\u001b[0m\u001b[0;34m.\u001b[0m\u001b[0mrefresh\u001b[0m\u001b[0;34m(\u001b[0m\u001b[0;34m)\u001b[0m\u001b[0;34m\u001b[0m\u001b[0;34m\u001b[0m\u001b[0m\n\u001b[1;32m    358\u001b[0m         \u001b[0;32mreturn\u001b[0m \u001b[0mself\u001b[0m\u001b[0;34m\u001b[0m\u001b[0;34m\u001b[0m\u001b[0m\n",
      "\u001b[0;32m~/opt/anaconda3/lib/python3.8/site-packages/hyperopt/fmin.py\u001b[0m in \u001b[0;36mrun\u001b[0;34m(self, N, block_until_done)\u001b[0m\n\u001b[1;32m    290\u001b[0m                 \u001b[0;32melse\u001b[0m\u001b[0;34m:\u001b[0m\u001b[0;34m\u001b[0m\u001b[0;34m\u001b[0m\u001b[0m\n\u001b[1;32m    291\u001b[0m                     \u001b[0;31m# -- loop over trials and do the jobs directly\u001b[0m\u001b[0;34m\u001b[0m\u001b[0;34m\u001b[0m\u001b[0;34m\u001b[0m\u001b[0m\n\u001b[0;32m--> 292\u001b[0;31m                     \u001b[0mself\u001b[0m\u001b[0;34m.\u001b[0m\u001b[0mserial_evaluate\u001b[0m\u001b[0;34m(\u001b[0m\u001b[0;34m)\u001b[0m\u001b[0;34m\u001b[0m\u001b[0;34m\u001b[0m\u001b[0m\n\u001b[0m\u001b[1;32m    293\u001b[0m \u001b[0;34m\u001b[0m\u001b[0m\n\u001b[1;32m    294\u001b[0m                 \u001b[0mself\u001b[0m\u001b[0;34m.\u001b[0m\u001b[0mtrials\u001b[0m\u001b[0;34m.\u001b[0m\u001b[0mrefresh\u001b[0m\u001b[0;34m(\u001b[0m\u001b[0;34m)\u001b[0m\u001b[0;34m\u001b[0m\u001b[0;34m\u001b[0m\u001b[0m\n",
      "\u001b[0;32m~/opt/anaconda3/lib/python3.8/site-packages/hyperopt/fmin.py\u001b[0m in \u001b[0;36mserial_evaluate\u001b[0;34m(self, N)\u001b[0m\n\u001b[1;32m    168\u001b[0m                 \u001b[0mctrl\u001b[0m \u001b[0;34m=\u001b[0m \u001b[0mbase\u001b[0m\u001b[0;34m.\u001b[0m\u001b[0mCtrl\u001b[0m\u001b[0;34m(\u001b[0m\u001b[0mself\u001b[0m\u001b[0;34m.\u001b[0m\u001b[0mtrials\u001b[0m\u001b[0;34m,\u001b[0m \u001b[0mcurrent_trial\u001b[0m\u001b[0;34m=\u001b[0m\u001b[0mtrial\u001b[0m\u001b[0;34m)\u001b[0m\u001b[0;34m\u001b[0m\u001b[0;34m\u001b[0m\u001b[0m\n\u001b[1;32m    169\u001b[0m                 \u001b[0;32mtry\u001b[0m\u001b[0;34m:\u001b[0m\u001b[0;34m\u001b[0m\u001b[0;34m\u001b[0m\u001b[0m\n\u001b[0;32m--> 170\u001b[0;31m                     \u001b[0mresult\u001b[0m \u001b[0;34m=\u001b[0m \u001b[0mself\u001b[0m\u001b[0;34m.\u001b[0m\u001b[0mdomain\u001b[0m\u001b[0;34m.\u001b[0m\u001b[0mevaluate\u001b[0m\u001b[0;34m(\u001b[0m\u001b[0mspec\u001b[0m\u001b[0;34m,\u001b[0m \u001b[0mctrl\u001b[0m\u001b[0;34m)\u001b[0m\u001b[0;34m\u001b[0m\u001b[0;34m\u001b[0m\u001b[0m\n\u001b[0m\u001b[1;32m    171\u001b[0m                 \u001b[0;32mexcept\u001b[0m \u001b[0mException\u001b[0m \u001b[0;32mas\u001b[0m \u001b[0me\u001b[0m\u001b[0;34m:\u001b[0m\u001b[0;34m\u001b[0m\u001b[0;34m\u001b[0m\u001b[0m\n\u001b[1;32m    172\u001b[0m                     \u001b[0mlogger\u001b[0m\u001b[0;34m.\u001b[0m\u001b[0merror\u001b[0m\u001b[0;34m(\u001b[0m\u001b[0;34m\"job exception: %s\"\u001b[0m \u001b[0;34m%\u001b[0m \u001b[0mstr\u001b[0m\u001b[0;34m(\u001b[0m\u001b[0me\u001b[0m\u001b[0;34m)\u001b[0m\u001b[0;34m)\u001b[0m\u001b[0;34m\u001b[0m\u001b[0;34m\u001b[0m\u001b[0m\n",
      "\u001b[0;32m~/opt/anaconda3/lib/python3.8/site-packages/hyperopt/base.py\u001b[0m in \u001b[0;36mevaluate\u001b[0;34m(self, config, ctrl, attach_attachments)\u001b[0m\n\u001b[1;32m    905\u001b[0m                 \u001b[0mprint_node_on_error\u001b[0m\u001b[0;34m=\u001b[0m\u001b[0mself\u001b[0m\u001b[0;34m.\u001b[0m\u001b[0mrec_eval_print_node_on_error\u001b[0m\u001b[0;34m,\u001b[0m\u001b[0;34m\u001b[0m\u001b[0;34m\u001b[0m\u001b[0m\n\u001b[1;32m    906\u001b[0m             )\n\u001b[0;32m--> 907\u001b[0;31m             \u001b[0mrval\u001b[0m \u001b[0;34m=\u001b[0m \u001b[0mself\u001b[0m\u001b[0;34m.\u001b[0m\u001b[0mfn\u001b[0m\u001b[0;34m(\u001b[0m\u001b[0mpyll_rval\u001b[0m\u001b[0;34m)\u001b[0m\u001b[0;34m\u001b[0m\u001b[0;34m\u001b[0m\u001b[0m\n\u001b[0m\u001b[1;32m    908\u001b[0m \u001b[0;34m\u001b[0m\u001b[0m\n\u001b[1;32m    909\u001b[0m         \u001b[0;32mif\u001b[0m \u001b[0misinstance\u001b[0m\u001b[0;34m(\u001b[0m\u001b[0mrval\u001b[0m\u001b[0;34m,\u001b[0m \u001b[0;34m(\u001b[0m\u001b[0mfloat\u001b[0m\u001b[0;34m,\u001b[0m \u001b[0mint\u001b[0m\u001b[0;34m,\u001b[0m \u001b[0mnp\u001b[0m\u001b[0;34m.\u001b[0m\u001b[0mnumber\u001b[0m\u001b[0;34m)\u001b[0m\u001b[0;34m)\u001b[0m\u001b[0;34m:\u001b[0m\u001b[0;34m\u001b[0m\u001b[0;34m\u001b[0m\u001b[0m\n",
      "\u001b[0;32m<ipython-input-172-08693342bc2e>\u001b[0m in \u001b[0;36mobjective\u001b[0;34m(space)\u001b[0m\n\u001b[1;32m      8\u001b[0m                                   \u001b[0mlearning_rate\u001b[0m \u001b[0;34m=\u001b[0m \u001b[0mspace\u001b[0m\u001b[0;34m[\u001b[0m\u001b[0;34m'learning_rate'\u001b[0m\u001b[0;34m]\u001b[0m\u001b[0;34m\u001b[0m\u001b[0;34m\u001b[0m\u001b[0m\n\u001b[1;32m      9\u001b[0m                                   )\n\u001b[0;32m---> 10\u001b[0;31m     \u001b[0mmodel\u001b[0m\u001b[0;34m.\u001b[0m\u001b[0mfit\u001b[0m\u001b[0;34m(\u001b[0m\u001b[0mfull_features\u001b[0m\u001b[0;34m[\u001b[0m\u001b[0;34m\"tr\"\u001b[0m\u001b[0;34m]\u001b[0m\u001b[0;34m[\u001b[0m\u001b[0mFTS_COLS_no_cat\u001b[0m\u001b[0;34m]\u001b[0m\u001b[0;34m,\u001b[0m \u001b[0mfull_features\u001b[0m\u001b[0;34m[\u001b[0m\u001b[0;34m\"tr\"\u001b[0m\u001b[0;34m]\u001b[0m\u001b[0;34m[\u001b[0m\u001b[0mTARGET\u001b[0m\u001b[0;34m]\u001b[0m\u001b[0;34m)\u001b[0m\u001b[0;34m\u001b[0m\u001b[0;34m\u001b[0m\u001b[0m\n\u001b[0m\u001b[1;32m     11\u001b[0m \u001b[0;34m\u001b[0m\u001b[0m\n\u001b[1;32m     12\u001b[0m     \u001b[0;32mreturn\u001b[0m \u001b[0;34m{\u001b[0m\u001b[0;34m\"loss\"\u001b[0m \u001b[0;34m:\u001b[0m \u001b[0mget_score_no_cat\u001b[0m\u001b[0;34m(\u001b[0m\u001b[0mmodel\u001b[0m\u001b[0;34m)\u001b[0m\u001b[0;34m,\u001b[0m \u001b[0;34m\"status\"\u001b[0m \u001b[0;34m:\u001b[0m \u001b[0mSTATUS_OK\u001b[0m\u001b[0;34m}\u001b[0m\u001b[0;34m\u001b[0m\u001b[0;34m\u001b[0m\u001b[0m\n",
      "\u001b[0;32m~/opt/anaconda3/lib/python3.8/site-packages/sklearn/ensemble/_gb.py\u001b[0m in \u001b[0;36mfit\u001b[0;34m(self, X, y, sample_weight, monitor)\u001b[0m\n\u001b[1;32m    502\u001b[0m \u001b[0;34m\u001b[0m\u001b[0m\n\u001b[1;32m    503\u001b[0m         \u001b[0;31m# fit the boosting stages\u001b[0m\u001b[0;34m\u001b[0m\u001b[0;34m\u001b[0m\u001b[0;34m\u001b[0m\u001b[0m\n\u001b[0;32m--> 504\u001b[0;31m         n_stages = self._fit_stages(\n\u001b[0m\u001b[1;32m    505\u001b[0m             \u001b[0mX\u001b[0m\u001b[0;34m,\u001b[0m \u001b[0my\u001b[0m\u001b[0;34m,\u001b[0m \u001b[0mraw_predictions\u001b[0m\u001b[0;34m,\u001b[0m \u001b[0msample_weight\u001b[0m\u001b[0;34m,\u001b[0m \u001b[0mself\u001b[0m\u001b[0;34m.\u001b[0m\u001b[0m_rng\u001b[0m\u001b[0;34m,\u001b[0m \u001b[0mX_val\u001b[0m\u001b[0;34m,\u001b[0m \u001b[0my_val\u001b[0m\u001b[0;34m,\u001b[0m\u001b[0;34m\u001b[0m\u001b[0;34m\u001b[0m\u001b[0m\n\u001b[1;32m    506\u001b[0m             sample_weight_val, begin_at_stage, monitor)\n",
      "\u001b[0;32m~/opt/anaconda3/lib/python3.8/site-packages/sklearn/ensemble/_gb.py\u001b[0m in \u001b[0;36m_fit_stages\u001b[0;34m(self, X, y, raw_predictions, sample_weight, random_state, X_val, y_val, sample_weight_val, begin_at_stage, monitor)\u001b[0m\n\u001b[1;32m    559\u001b[0m \u001b[0;34m\u001b[0m\u001b[0m\n\u001b[1;32m    560\u001b[0m             \u001b[0;31m# fit next stage of trees\u001b[0m\u001b[0;34m\u001b[0m\u001b[0;34m\u001b[0m\u001b[0;34m\u001b[0m\u001b[0m\n\u001b[0;32m--> 561\u001b[0;31m             raw_predictions = self._fit_stage(\n\u001b[0m\u001b[1;32m    562\u001b[0m                 \u001b[0mi\u001b[0m\u001b[0;34m,\u001b[0m \u001b[0mX\u001b[0m\u001b[0;34m,\u001b[0m \u001b[0my\u001b[0m\u001b[0;34m,\u001b[0m \u001b[0mraw_predictions\u001b[0m\u001b[0;34m,\u001b[0m \u001b[0msample_weight\u001b[0m\u001b[0;34m,\u001b[0m \u001b[0msample_mask\u001b[0m\u001b[0;34m,\u001b[0m\u001b[0;34m\u001b[0m\u001b[0;34m\u001b[0m\u001b[0m\n\u001b[1;32m    563\u001b[0m                 random_state, X_csc, X_csr)\n",
      "\u001b[0;32m~/opt/anaconda3/lib/python3.8/site-packages/sklearn/ensemble/_gb.py\u001b[0m in \u001b[0;36m_fit_stage\u001b[0;34m(self, i, X, y, raw_predictions, sample_weight, sample_mask, random_state, X_csc, X_csr)\u001b[0m\n\u001b[1;32m    212\u001b[0m \u001b[0;34m\u001b[0m\u001b[0m\n\u001b[1;32m    213\u001b[0m             \u001b[0mX\u001b[0m \u001b[0;34m=\u001b[0m \u001b[0mX_csr\u001b[0m \u001b[0;32mif\u001b[0m \u001b[0mX_csr\u001b[0m \u001b[0;32mis\u001b[0m \u001b[0;32mnot\u001b[0m \u001b[0;32mNone\u001b[0m \u001b[0;32melse\u001b[0m \u001b[0mX\u001b[0m\u001b[0;34m\u001b[0m\u001b[0;34m\u001b[0m\u001b[0m\n\u001b[0;32m--> 214\u001b[0;31m             tree.fit(X, residual, sample_weight=sample_weight,\n\u001b[0m\u001b[1;32m    215\u001b[0m                      check_input=False)\n\u001b[1;32m    216\u001b[0m \u001b[0;34m\u001b[0m\u001b[0m\n",
      "\u001b[0;32m~/opt/anaconda3/lib/python3.8/site-packages/sklearn/tree/_classes.py\u001b[0m in \u001b[0;36mfit\u001b[0;34m(self, X, y, sample_weight, check_input, X_idx_sorted)\u001b[0m\n\u001b[1;32m   1250\u001b[0m         \"\"\"\n\u001b[1;32m   1251\u001b[0m \u001b[0;34m\u001b[0m\u001b[0m\n\u001b[0;32m-> 1252\u001b[0;31m         super().fit(\n\u001b[0m\u001b[1;32m   1253\u001b[0m             \u001b[0mX\u001b[0m\u001b[0;34m,\u001b[0m \u001b[0my\u001b[0m\u001b[0;34m,\u001b[0m\u001b[0;34m\u001b[0m\u001b[0;34m\u001b[0m\u001b[0m\n\u001b[1;32m   1254\u001b[0m             \u001b[0msample_weight\u001b[0m\u001b[0;34m=\u001b[0m\u001b[0msample_weight\u001b[0m\u001b[0;34m,\u001b[0m\u001b[0;34m\u001b[0m\u001b[0;34m\u001b[0m\u001b[0m\n",
      "\u001b[0;32m~/opt/anaconda3/lib/python3.8/site-packages/sklearn/tree/_classes.py\u001b[0m in \u001b[0;36mfit\u001b[0;34m(self, X, y, sample_weight, check_input, X_idx_sorted)\u001b[0m\n\u001b[1;32m    392\u001b[0m                                            min_impurity_split)\n\u001b[1;32m    393\u001b[0m \u001b[0;34m\u001b[0m\u001b[0m\n\u001b[0;32m--> 394\u001b[0;31m         \u001b[0mbuilder\u001b[0m\u001b[0;34m.\u001b[0m\u001b[0mbuild\u001b[0m\u001b[0;34m(\u001b[0m\u001b[0mself\u001b[0m\u001b[0;34m.\u001b[0m\u001b[0mtree_\u001b[0m\u001b[0;34m,\u001b[0m \u001b[0mX\u001b[0m\u001b[0;34m,\u001b[0m \u001b[0my\u001b[0m\u001b[0;34m,\u001b[0m \u001b[0msample_weight\u001b[0m\u001b[0;34m)\u001b[0m\u001b[0;34m\u001b[0m\u001b[0;34m\u001b[0m\u001b[0m\n\u001b[0m\u001b[1;32m    395\u001b[0m \u001b[0;34m\u001b[0m\u001b[0m\n\u001b[1;32m    396\u001b[0m         \u001b[0;32mif\u001b[0m \u001b[0mself\u001b[0m\u001b[0;34m.\u001b[0m\u001b[0mn_outputs_\u001b[0m \u001b[0;34m==\u001b[0m \u001b[0;36m1\u001b[0m \u001b[0;32mand\u001b[0m \u001b[0mis_classifier\u001b[0m\u001b[0;34m(\u001b[0m\u001b[0mself\u001b[0m\u001b[0;34m)\u001b[0m\u001b[0;34m:\u001b[0m\u001b[0;34m\u001b[0m\u001b[0;34m\u001b[0m\u001b[0m\n",
      "\u001b[0;31mKeyboardInterrupt\u001b[0m: "
     ]
    }
   ],
   "source": [
    "#сама оптимизация - около получаса\n",
    "trials = Trials()\n",
    "\n",
    "optimized_gd = fmin(fn = objective,\n",
    "                   space = space, \n",
    "                   algo = tpe.suggest,\n",
    "                   max_evals = 300, \n",
    "                   trials = trials)"
   ]
  },
  {
   "cell_type": "code",
   "execution_count": 60,
   "id": "straight-pathology",
   "metadata": {},
   "outputs": [
    {
     "data": {
      "text/plain": [
       "{'learning_rate': 0.022919175228008782,\n",
       " 'loss': 1,\n",
       " 'max_depth': 860.0,\n",
       " 'min_samples_leaf': 0.0616290956659412,\n",
       " 'min_samples_split': 0.1870747466430237,\n",
       " 'n_estimators': 1}"
      ]
     },
     "execution_count": 60,
     "metadata": {},
     "output_type": "execute_result"
    }
   ],
   "source": [
    "#смотрим на выбранные гиперпараметры\n",
    "optimized_gd"
   ]
  },
  {
   "cell_type": "code",
   "execution_count": 181,
   "id": "maritime-diagnosis",
   "metadata": {},
   "outputs": [],
   "source": [
    "#строим модель бустинга по тем параметрам, которые нащел hyperopt\n",
    "gd_optimized = GradientBoostingRegressor(learning_rate=0.02, loss = 'lad', max_depth=860, min_samples_leaf=0.06,\n",
    "                                        min_samples_split=0.19, n_estimators=200)"
   ]
  },
  {
   "cell_type": "code",
   "execution_count": 182,
   "id": "cubic-circle",
   "metadata": {},
   "outputs": [
    {
     "data": {
      "text/plain": [
       "GradientBoostingRegressor(learning_rate=0.02, loss='lad', max_depth=860,\n",
       "                          min_samples_leaf=0.06, min_samples_split=0.19,\n",
       "                          n_estimators=200)"
      ]
     },
     "execution_count": 182,
     "metadata": {},
     "output_type": "execute_result"
    }
   ],
   "source": [
    "#fitting\n",
    "gd_optimized.fit(full_features[\"tr\"][FTS_COLS_no_cat], full_features[\"tr\"][TARGET])"
   ]
  },
  {
   "cell_type": "code",
   "execution_count": 183,
   "id": "weekly-worse",
   "metadata": {},
   "outputs": [
    {
     "data": {
      "text/plain": [
       "1.8584706374016846"
      ]
     },
     "execution_count": 183,
     "metadata": {},
     "output_type": "execute_result"
    }
   ],
   "source": [
    "#скор\n",
    "get_score_no_cat(gd_optimized)"
   ]
  },
  {
   "cell_type": "code",
   "execution_count": 153,
   "id": "separated-horse",
   "metadata": {},
   "outputs": [],
   "source": [
    "#сохраняем модель с помощью библиотеки pickle\n",
    "import pickle"
   ]
  },
  {
   "cell_type": "code",
   "execution_count": 156,
   "id": "imposed-essex",
   "metadata": {},
   "outputs": [],
   "source": [
    "pickle.dump(gd_optimized, open('gd_model.sav', 'wb'))"
   ]
  }
 ],
 "metadata": {
  "kernelspec": {
   "display_name": "Python 3",
   "language": "python",
   "name": "python3"
  },
  "language_info": {
   "codemirror_mode": {
    "name": "ipython",
    "version": 3
   },
   "file_extension": ".py",
   "mimetype": "text/x-python",
   "name": "python",
   "nbconvert_exporter": "python",
   "pygments_lexer": "ipython3",
   "version": "3.8.3"
  }
 },
 "nbformat": 4,
 "nbformat_minor": 5
}
